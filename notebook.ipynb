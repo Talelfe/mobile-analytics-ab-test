{
 "cells": [
  {
   "cell_type": "markdown",
   "metadata": {},
   "source": [
    "# Sprint 11 - Proyecto"
   ]
  },
  {
   "cell_type": "markdown",
   "metadata": {},
   "source": [
    "Análisis del comportamiento del usuario y resultados de un test A/A/B.\n",
    "\n",
    "Este script realiza un análisis completo del comportamiento del usuario para una aplicación de venta de alimentos, estudiando un embudo de ventas y evaluando los resultados de un experimento A/A/B."
   ]
  },
  {
   "cell_type": "markdown",
   "metadata": {},
   "source": [
    "## 🛠️ Habilidad: Procesamiento de Datos."
   ]
  },
  {
   "cell_type": "markdown",
   "metadata": {},
   "source": [
    "## Carga y Preparación de Datos 🛠️"
   ]
  },
  {
   "cell_type": "markdown",
   "metadata": {},
   "source": [
    "En esta primera sección, el objetivo es preparar el terreno para el análisis. La habilidad principal aquí es el Procesamiento de Datos."
   ]
  },
  {
   "cell_type": "markdown",
   "metadata": {},
   "source": [
    "###  📚 Sección 1: Procesamiento de Datos"
   ]
  },
  {
   "cell_type": "markdown",
   "metadata": {},
   "source": [
    "Esta sección se enfoca en preparar los datos. Leeremos el archivo, renombraremos las columnas, verificaremos los tipos de datos y manejaremos cualquier valor faltante. Finalmente, crearemos nuevas columnas de tiempo."
   ]
  },
  {
   "cell_type": "markdown",
   "metadata": {},
   "source": [
    "#### 📚 Importar Librerias."
   ]
  },
  {
   "cell_type": "code",
   "execution_count": 1,
   "metadata": {},
   "outputs": [],
   "source": [
    "import pandas as pd\n",
    "import numpy as np\n",
    "from scipy import stats as st\n",
    "import matplotlib.pyplot as plt\n",
    "import seaborn as sns\n",
    "import datetime as dt"
   ]
  },
  {
   "cell_type": "markdown",
   "metadata": {},
   "source": [
    "#### 📊 Configuración de gráficos."
   ]
  },
  {
   "cell_type": "code",
   "execution_count": 2,
   "metadata": {},
   "outputs": [],
   "source": [
    "sns.set_style('whitegrid')\n",
    "pd.options.display.float_format = '{:,.2f}'.format"
   ]
  },
  {
   "cell_type": "code",
   "execution_count": 3,
   "metadata": {},
   "outputs": [
    {
     "name": "stdout",
     "output_type": "stream",
     "text": [
      "Iniciando la sección de Procesamiento de Datos... 🛠️\n"
     ]
    }
   ],
   "source": [
    "print(\"Iniciando la sección de Procesamiento de Datos... 🛠️\")"
   ]
  },
  {
   "cell_type": "markdown",
   "metadata": {},
   "source": [
    "#### 📂 Carga de datos."
   ]
  },
  {
   "cell_type": "code",
   "execution_count": 4,
   "metadata": {},
   "outputs": [
    {
     "name": "stdout",
     "output_type": "stream",
     "text": [
      "✅ Archivo de datos cargado correctamente.\n"
     ]
    }
   ],
   "source": [
    "file_path = '/datasets/logs_exp_us.csv'\n",
    "df = pd.read_csv(file_path, sep='\\t') # 🔑 Usamos sep='\\t' para indicar el separador de tabulación.\n",
    "print(\"✅ Archivo de datos cargado correctamente.\")"
   ]
  },
  {
   "cell_type": "code",
   "execution_count": 5,
   "metadata": {},
   "outputs": [
    {
     "name": "stdout",
     "output_type": "stream",
     "text": [
      "✅ Mostramos columnas en bruto para ver que se cargo correctamente el archivo\n",
      "Index(['EventName', 'DeviceIDHash', 'EventTimestamp', 'ExpId'], dtype='object')\n"
     ]
    }
   ],
   "source": [
    "print(\"✅ Mostramos columnas en bruto para ver que se cargo correctamente el archivo\")\n",
    "print(df.columns)"
   ]
  },
  {
   "cell_type": "markdown",
   "metadata": {},
   "source": [
    "El código comienza importando las librerías necesarias y definiendo una función (load_and_prepare_data) para cargar el archivo logs_exp_us.csv. A diferencia de un archivo CSV estándar, este usa un separador de tabulación (\\t), lo que requiere una corrección específica en la función pd.read_csv."
   ]
  },
  {
   "cell_type": "markdown",
   "metadata": {},
   "source": [
    "### 📝 Sección 1.1: Preparar los datos para el análisis."
   ]
  },
  {
   "cell_type": "markdown",
   "metadata": {},
   "source": [
    "#### a) Renombrar columnas."
   ]
  },
  {
   "cell_type": "code",
   "execution_count": 6,
   "metadata": {},
   "outputs": [
    {
     "name": "stdout",
     "output_type": "stream",
     "text": [
      "✅ Columnas renombradas para mayor claridad.\n"
     ]
    }
   ],
   "source": [
    "df.columns = ['event_name', 'device_id_hash', 'event_timestamp', 'exp_id']\n",
    "print(\"✅ Columnas renombradas para mayor claridad.\")"
   ]
  },
  {
   "cell_type": "markdown",
   "metadata": {},
   "source": [
    "#### b) Comprobar tipos de datos y valores ausentes."
   ]
  },
  {
   "cell_type": "code",
   "execution_count": 7,
   "metadata": {},
   "outputs": [
    {
     "name": "stdout",
     "output_type": "stream",
     "text": [
      "\n",
      "🔍 Información general del DataFrame antes de la preparación:\n",
      "<class 'pandas.core.frame.DataFrame'>\n",
      "RangeIndex: 244126 entries, 0 to 244125\n",
      "Data columns (total 4 columns):\n",
      " #   Column           Non-Null Count   Dtype \n",
      "---  ------           --------------   ----- \n",
      " 0   event_name       244126 non-null  object\n",
      " 1   device_id_hash   244126 non-null  int64 \n",
      " 2   event_timestamp  244126 non-null  int64 \n",
      " 3   exp_id           244126 non-null  int64 \n",
      "dtypes: int64(3), object(1)\n",
      "memory usage: 7.5+ MB\n",
      "None\n"
     ]
    }
   ],
   "source": [
    "print(\"\\n🔍 Información general del DataFrame antes de la preparación:\")\n",
    "print(df.info())"
   ]
  },
  {
   "cell_type": "markdown",
   "metadata": {},
   "source": [
    "#### c) Convertir la columna de tiempo al formato correcto."
   ]
  },
  {
   "cell_type": "markdown",
   "metadata": {},
   "source": [
    "Es crucial que esta columna sea de tipo numérico para que `unit='s'` funcione.\n",
    "Hasta este punto el tipo de Separador `sep='\\t'` fue crucial para la correcta lectura de los Datos."
   ]
  },
  {
   "cell_type": "code",
   "execution_count": 8,
   "metadata": {},
   "outputs": [],
   "source": [
    "df['event_timestamp'] = pd.to_datetime(df['event_timestamp'], unit='s')"
   ]
  },
  {
   "cell_type": "markdown",
   "metadata": {},
   "source": [
    "#### d) Agregar una columna de fecha (sin hora). "
   ]
  },
  {
   "cell_type": "code",
   "execution_count": 9,
   "metadata": {},
   "outputs": [],
   "source": [
    "df['event_date'] = df['event_timestamp'].dt.date"
   ]
  },
  {
   "cell_type": "markdown",
   "metadata": {},
   "source": [
    "#### e) Resultados "
   ]
  },
  {
   "cell_type": "code",
   "execution_count": 10,
   "metadata": {},
   "outputs": [
    {
     "name": "stdout",
     "output_type": "stream",
     "text": [
      "\n",
      "✅ Tipos de datos corregidos y columnas de tiempo agregadas.\n"
     ]
    }
   ],
   "source": [
    "print(\"\\n✅ Tipos de datos corregidos y columnas de tiempo agregadas.\")"
   ]
  },
  {
   "cell_type": "markdown",
   "metadata": {},
   "source": [
    "Transformación de Datos: Una vez cargado, se renombran las columnas con nombres más intuitivos para facilitar el trabajo y se corrige el formato de la columna de tiempo (event_timestamp). Esto es crucial, ya que los datos de tiempo se guardan en segundos y necesitan ser convertidos a un formato de fecha y hora (datetime). Además, se crea una nueva columna para la fecha (event_date) que será útil para el análisis posterior."
   ]
  },
  {
   "cell_type": "code",
   "execution_count": 11,
   "metadata": {},
   "outputs": [
    {
     "name": "stdout",
     "output_type": "stream",
     "text": [
      "\n",
      "✅ DataFrame preparado y listo para el análisis exploratorio.\n"
     ]
    }
   ],
   "source": [
    "print(\"\\n✅ DataFrame preparado y listo para el análisis exploratorio.\")"
   ]
  },
  {
   "cell_type": "markdown",
   "metadata": {},
   "source": [
    "## 🕵️‍♀️ Habilidad: Análisis Exploratorio."
   ]
  },
  {
   "cell_type": "markdown",
   "metadata": {},
   "source": [
    "## 📈 Sección 2: Análisis Exploratorio de Datos (EDA)"
   ]
  },
  {
   "cell_type": "markdown",
   "metadata": {},
   "source": [
    "En esta sección, exploraremos el conjunto de datos para entender su estructura, el rango de tiempo que cubre y la distribución de eventos y usuarios antes de profundizar en el análisis estadístico."
   ]
  },
  {
   "cell_type": "markdown",
   "metadata": {},
   "source": [
    "### 🔍 Análisis Exploratorio."
   ]
  },
  {
   "cell_type": "markdown",
   "metadata": {},
   "source": [
    "### 👨‍🎓 Estudiar y comprobar los datos."
   ]
  },
  {
   "cell_type": "markdown",
   "metadata": {},
   "source": [
    "##### Métricas Generales:"
   ]
  },
  {
   "cell_type": "markdown",
   "metadata": {},
   "source": [
    "#### a) ¿Cuántos eventos y usuarios hay?"
   ]
  },
  {
   "cell_type": "code",
   "execution_count": 12,
   "metadata": {},
   "outputs": [
    {
     "name": "stdout",
     "output_type": "stream",
     "text": [
      "\n",
      "📊 Hay 244,126 eventos en los registros.\n",
      "👥 Hay 7,551 usuarios únicos en los registros.\n"
     ]
    }
   ],
   "source": [
    "total_events = len(df)\n",
    "total_users = df['device_id_hash'].nunique()\n",
    "print(f\"\\n📊 Hay {total_events:,} eventos en los registros.\")\n",
    "print(f\"👥 Hay {total_users:,} usuarios únicos en los registros.\")"
   ]
  },
  {
   "cell_type": "markdown",
   "metadata": {},
   "source": [
    "#### b) ¿Cuál es el promedio de eventos por usuario?"
   ]
  },
  {
   "cell_type": "code",
   "execution_count": 13,
   "metadata": {},
   "outputs": [
    {
     "name": "stdout",
     "output_type": "stream",
     "text": [
      "📊 El promedio de eventos por usuario es de 32.33.\n"
     ]
    }
   ],
   "source": [
    "avg_events_per_user = total_events / total_users\n",
    "print(f\"📊 El promedio de eventos por usuario es de {avg_events_per_user:.2f}.\")"
   ]
  },
  {
   "cell_type": "markdown",
   "metadata": {},
   "source": [
    "Se calculan y mostramos métricas clave como el número total de eventos y usuarios únicos. Esto nos da una idea del tamaño del conjunto de datos. También se calcula el promedio de eventos por usuario para comprender la actividad general de la plataforma."
   ]
  },
  {
   "cell_type": "markdown",
   "metadata": {},
   "source": [
    "##### Período de Datos y Visualización:"
   ]
  },
  {
   "cell_type": "markdown",
   "metadata": {},
   "source": [
    "#### c) ¿Qué período de tiempo cubren los datos?"
   ]
  },
  {
   "cell_type": "code",
   "execution_count": 14,
   "metadata": {},
   "outputs": [
    {
     "name": "stdout",
     "output_type": "stream",
     "text": [
      "\n",
      "📅 Los datos cubren el período desde 2019-07-25 04:43:36 hasta 2019-08-07 21:15:17.\n"
     ]
    }
   ],
   "source": [
    "min_date = df['event_timestamp'].min()\n",
    "max_date = df['event_timestamp'].max()\n",
    "print(f\"\\n📅 Los datos cubren el período desde {min_date} hasta {max_date}.\")"
   ]
  },
  {
   "cell_type": "markdown",
   "metadata": {},
   "source": [
    "#### d) Graficar un histograma por fecha y hora."
   ]
  },
  {
   "cell_type": "code",
   "execution_count": 15,
   "metadata": {},
   "outputs": [
    {
     "data": {
      "image/png": "[encoded data removed]",
      "text/plain": [
       "<Figure size 1500x600 with 1 Axes>"
      ]
     },
     "metadata": {},
     "output_type": "display_data"
    }
   ],
   "source": [
    "plt.figure(figsize=(15, 6))\n",
    "df['event_timestamp'].hist(bins=100)\n",
    "plt.title('Distribución de Eventos por Fecha y Hora')\n",
    "plt.xlabel('Fecha y Hora')\n",
    "plt.ylabel('Número de Eventos')\n",
    "plt.show()"
   ]
  },
  {
   "cell_type": "markdown",
   "metadata": {},
   "source": [
    "Se identifica el rango de tiempo que cubren los datos (fecha de inicio y fin). Se crea un histograma de la distribución de eventos a lo largo del tiempo. Esta visualización es fundamental para detectar si hay una caída abrupta de eventos al principio, lo que indicaría que los datos de ese período no están completos."
   ]
  },
  {
   "cell_type": "markdown",
   "metadata": {},
   "source": [
    "##### Explicación de la Gráfica. "
   ]
  },
  {
   "cell_type": "markdown",
   "metadata": {},
   "source": [
    "**Análisis de la Distribución de Eventos**\n",
    "\n",
    "1. **Datos Incompletos al Inicio:** La conclusión más importante es que los datos de los primeros días del registro están incompletos. Observa el período desde el 25 de julio hasta el 31 de julio: el número de eventos es insignificante, casi nulo. De repente, a partir del **1 de agosto**, hay una subida masiva y sostenida de eventos. Esto sugiere que el sistema de registro (o la recopilación de datos) no estaba funcionando correctamente al principio y solo comenzó a capturar la totalidad de los eventos a partir del 1 de agosto.\n",
    "\n",
    "* **Implicación para el proyecto:** Para evitar que un análisis sesgado, debemos **filtrar los datos** y usar solo la información a partir del **1 de agosto de 2019** en adelante. El análisis del embudo y del experimento A/A/B no sería confiable si se incluyeran los datos escasos de la última semana de julio.\n",
    "\n",
    "2. **Patrón Diario de Uso:** A partir del 1 de agosto, la gráfica muestra un **patrón recurrente de picos y valles**. Los picos más altos (alrededor de 9,000 eventos) se alternan con picos ligeramente más bajos (alrededor de 7,000 eventos). Este comportamiento es típico y refleja la **actividad diaria o semanal del usuario**, por ejemplo, con menos uso en las noches o los fines de semana. Este patrón demuestra que los datos ya están siendo registrados de manera consistente y fiable.\n",
    "\n",
    "**En resumen**, la gráfica, nos ha permitido identificar la necesidad de limpiar el conjunto de datos para garantizar que el resto de nuestro análisis sea preciso y representativo del comportamiento real del usuario."
   ]
  },
  {
   "cell_type": "markdown",
   "metadata": {},
   "source": [
    "#### e) Momento en que los datos comienzan a estar completos."
   ]
  },
  {
   "cell_type": "code",
   "execution_count": 16,
   "metadata": {},
   "outputs": [],
   "source": [
    "# se requeire la libreria import datetime as dt\n",
    "start_date_of_complete_data = dt.date(2019, 8, 1)    "
   ]
  },
  {
   "cell_type": "markdown",
   "metadata": {},
   "source": [
    "#### f) Filtrar los datos si es necesario (basado en el histograma)."
   ]
  },
  {
   "cell_type": "code",
   "execution_count": 17,
   "metadata": {},
   "outputs": [],
   "source": [
    "filtered_df = df[df['event_date'] >= start_date_of_complete_data].copy()"
   ]
  },
  {
   "cell_type": "markdown",
   "metadata": {},
   "source": [
    "#### 🧹 Resultados Despues de la Limpieza."
   ]
  },
  {
   "cell_type": "code",
   "execution_count": 18,
   "metadata": {},
   "outputs": [
    {
     "name": "stdout",
     "output_type": "stream",
     "text": [
      "\n",
      "✅ Después de la limpieza, el análisis se centrará en el período desde 2019-08-01 hasta 2019-08-07.\n"
     ]
    }
   ],
   "source": [
    "print(f\"\\n✅ Después de la limpieza, el análisis se centrará en el período desde {start_date_of_complete_data} hasta {filtered_df['event_date'].max()}.\")"
   ]
  },
  {
   "cell_type": "markdown",
   "metadata": {},
   "source": [
    "#### g) ¿Cuántos datos se perdieron?"
   ]
  },
  {
   "cell_type": "code",
   "execution_count": 19,
   "metadata": {},
   "outputs": [
    {
     "name": "stdout",
     "output_type": "stream",
     "text": [
      "❌ Se perdieron 1.16% de los eventos y 0.23% de los usuarios al excluir los datos más antiguos.\n"
     ]
    }
   ],
   "source": [
    "lost_events_percent = (1 - len(filtered_df) / total_events) * 100\n",
    "lost_users_percent = (1 - filtered_df['device_id_hash'].nunique() / total_users) * 100\n",
    "print(f\"❌ Se perdieron {lost_events_percent:.2f}% de los eventos y {lost_users_percent:.2f}% de los usuarios al excluir los datos más antiguos.\")"
   ]
  },
  {
   "cell_type": "markdown",
   "metadata": {},
   "source": [
    "##### Verificación de Grupos:"
   ]
  },
  {
   "cell_type": "markdown",
   "metadata": {},
   "source": [
    "#### h) Asegurarse de tener usuarios de los tres grupos."
   ]
  },
  {
   "cell_type": "code",
   "execution_count": 20,
   "metadata": {},
   "outputs": [
    {
     "name": "stdout",
     "output_type": "stream",
     "text": [
      "\n",
      "👥 Usuarios únicos por grupo de experimento (ExpId):\n",
      "exp_id\n",
      "246    2484\n",
      "247    2513\n",
      "248    2537\n",
      "Name: device_id_hash, dtype: int64\n"
     ]
    }
   ],
   "source": [
    "print(f\"\\n👥 Usuarios únicos por grupo de experimento (ExpId):\")\n",
    "print(filtered_df.groupby('exp_id')['device_id_hash'].nunique())"
   ]
  },
  {
   "cell_type": "markdown",
   "metadata": {},
   "source": [
    "Se cuenta el número de usuarios únicos en cada uno de los grupos del experimento (exp_id). Esta verificación inicial es un paso crucial para asegurar que la división de la prueba se realizó correctamente y que no hay un desequilibrio significativo en el tamaño de los grupos."
   ]
  },
  {
   "cell_type": "code",
   "execution_count": 21,
   "metadata": {},
   "outputs": [
    {
     "name": "stdout",
     "output_type": "stream",
     "text": [
      "\n",
      "✅ EDA completado. Los datos están listos para el análisis de embudo y experimento.\n"
     ]
    }
   ],
   "source": [
    "print(\"\\n✅ EDA completado. Los datos están listos para el análisis de embudo y experimento.\")"
   ]
  },
  {
   "cell_type": "markdown",
   "metadata": {},
   "source": [
    "## 💼 Habilidad: Análisis de Negocio y Explicación de Datos 🗣️"
   ]
  },
  {
   "cell_type": "markdown",
   "metadata": {},
   "source": [
    "## 📈 Sección 3: Estudio del Embudo de Eventos"
   ]
  },
  {
   "cell_type": "markdown",
   "metadata": {},
   "source": [
    "En esta sección nos centraremos en el análisis del embudo de ventas; se aplica el Análisis de Negocio y la Explicación de Datos para trazar el recorrido de los usuarios a través de la aplicación. Buscaremos los eventos más comunes, determinaremos la secuencia de los mismos y calcularemos las tasas de conversión para cada etapa."
   ]
  },
  {
   "cell_type": "code",
   "execution_count": 22,
   "metadata": {},
   "outputs": [
    {
     "name": "stdout",
     "output_type": "stream",
     "text": [
      "\n",
      "Iniciando la sección de Análisis del Embudo de Eventos... 💼\n"
     ]
    }
   ],
   "source": [
    "print(\"\\nIniciando la sección de Análisis del Embudo de Eventos... 💼\")"
   ]
  },
  {
   "cell_type": "markdown",
   "metadata": {},
   "source": [
    "##### Frecuencia de Eventos por Usuario:"
   ]
  },
  {
   "cell_type": "markdown",
   "metadata": {},
   "source": [
    "#### a) Observar qué eventos hay y su frecuencia."
   ]
  },
  {
   "cell_type": "code",
   "execution_count": 23,
   "metadata": {},
   "outputs": [
    {
     "name": "stdout",
     "output_type": "stream",
     "text": [
      "\n",
      "🎯 Frecuencia de eventos:\n",
      "MainScreenAppear           117431\n",
      "OffersScreenAppear          46350\n",
      "CartScreenAppear            42365\n",
      "PaymentScreenSuccessful     34113\n",
      "Tutorial                     1039\n",
      "Name: event_name, dtype: int64\n"
     ]
    }
   ],
   "source": [
    "event_counts = filtered_df['event_name'].value_counts()\n",
    "print(\"\\n🎯 Frecuencia de eventos:\")\n",
    "print(event_counts)"
   ]
  },
  {
   "cell_type": "markdown",
   "metadata": {},
   "source": [
    "#### b) Encontrar la cantidad de usuarios que realizaron cada acción."
   ]
  },
  {
   "cell_type": "code",
   "execution_count": 24,
   "metadata": {},
   "outputs": [
    {
     "name": "stdout",
     "output_type": "stream",
     "text": [
      "\n",
      "👥 Número de usuarios únicos por evento:\n",
      "event_name\n",
      "MainScreenAppear           7419\n",
      "OffersScreenAppear         4593\n",
      "CartScreenAppear           3734\n",
      "PaymentScreenSuccessful    3539\n",
      "Tutorial                    840\n",
      "Name: device_id_hash, dtype: int64\n"
     ]
    }
   ],
   "source": [
    "#user_counts_by_event = df.groupby('event_name')['device_id_hash'].nunique().sort_values(ascending=False)\n",
    "user_counts_by_event = filtered_df.groupby('event_name')['device_id_hash'].nunique().sort_values(ascending=False)\n",
    "print(\"\\n👥 Número de usuarios únicos por evento:\")\n",
    "print(user_counts_by_event)"
   ]
  },
  {
   "cell_type": "markdown",
   "metadata": {},
   "source": [
    "#### c) Calcular la proporción de usuarios que realizaron la acción al menos una vez."
   ]
  },
  {
   "cell_type": "code",
   "execution_count": 25,
   "metadata": {},
   "outputs": [
    {
     "name": "stdout",
     "output_type": "stream",
     "text": [
      "\n",
      "📈 Proporción de usuarios únicos por evento:\n",
      "event_name\n",
      "MainScreenAppear          0.98\n",
      "OffersScreenAppear        0.61\n",
      "CartScreenAppear          0.50\n",
      "PaymentScreenSuccessful   0.47\n",
      "Tutorial                  0.11\n",
      "Name: device_id_hash, dtype: float64\n"
     ]
    }
   ],
   "source": [
    "total_unique_users_filtered = filtered_df['device_id_hash'].nunique()\n",
    "user_proportion = user_counts_by_event / total_unique_users_filtered\n",
    "print(\"\\n📈 Proporción de usuarios únicos por evento:\")\n",
    "print(user_proportion)"
   ]
  },
  {
   "cell_type": "markdown",
   "metadata": {},
   "source": [
    "Se analizan los eventos más comunes y se cuenta la cantidad de usuarios únicos que realizaron cada acción. Esto permite identificar las etapas más transitadas por los usuarios."
   ]
  },
  {
   "cell_type": "markdown",
   "metadata": {},
   "source": [
    "##### Creación del Embudo de Conversión:"
   ]
  },
  {
   "cell_type": "markdown",
   "metadata": {},
   "source": [
    "#### d) Crear el embudo de eventos."
   ]
  },
  {
   "cell_type": "markdown",
   "metadata": {},
   "source": [
    "Basado en la **lógica de un embudo de ventas**, la secuencia probable es:\n",
    "\n",
    "1.MainScreenAppear (pantalla principal) -> 2. OffersScreenAppear (pantalla de ofertas)\n",
    "3.CartScreenAppear (pantalla del carrito) -> 4. PaymentScreenSuccessful (pago exitoso)"
   ]
  },
  {
   "cell_type": "code",
   "execution_count": 26,
   "metadata": {},
   "outputs": [
    {
     "name": "stdout",
     "output_type": "stream",
     "text": [
      "\n",
      "🚀 Analizando el embudo de ventas...\n",
      "event_name\n",
      "MainScreenAppear           7419\n",
      "OffersScreenAppear         4593\n",
      "CartScreenAppear           3734\n",
      "PaymentScreenSuccessful    3539\n",
      "Name: device_id_hash, dtype: int64\n"
     ]
    }
   ],
   "source": [
    "funnel = ['MainScreenAppear', 'OffersScreenAppear', 'CartScreenAppear', 'PaymentScreenSuccessful']\n",
    "funnel_users = user_counts_by_event.loc[funnel]\n",
    "print(\"\\n🚀 Analizando el embudo de ventas...\")\n",
    "print(funnel_users)"
   ]
  },
  {
   "cell_type": "markdown",
   "metadata": {},
   "source": [
    "Se define un embudo de ventas lógico, que generalmente sigue la secuencia: MainScreenAppear (Pantalla Principal) -> OffersScreenAppear (Ofertas) -> CartScreenAppear (Carrito) -> PaymentScreenSuccessful (Pago Exitoso)."
   ]
  },
  {
   "cell_type": "markdown",
   "metadata": {},
   "source": [
    "##### Tasa de Conversión de Una Etapa a la Siguiente:"
   ]
  },
  {
   "cell_type": "markdown",
   "metadata": {},
   "source": [
    "#### e) Calcular la proporción de usuarios que pasan de una etapa a la siguiente."
   ]
  },
  {
   "cell_type": "code",
   "execution_count": 27,
   "metadata": {},
   "outputs": [
    {
     "name": "stdout",
     "output_type": "stream",
     "text": [
      "\n",
      "📊 Tasa de conversión de una etapa a la siguiente:\n",
      "👉 De 'MainScreenAppear' a 'OffersScreenAppear': 61.91%\n",
      "👉 De 'OffersScreenAppear' a 'CartScreenAppear': 81.30%\n",
      "👉 De 'CartScreenAppear' a 'PaymentScreenSuccessful': 94.78%\n"
     ]
    }
   ],
   "source": [
    "print(\"\\n📊 Tasa de conversión de una etapa a la siguiente:\")\n",
    "\n",
    "for i in range(len(funnel) - 1):\n",
    "    step_from = funnel[i]\n",
    "    step_to = funnel[i+1]\n",
    "    conversion = funnel_users.loc[step_to] / funnel_users.loc[step_from]\n",
    "    print(f\"👉 De '{step_from}' a '{step_to}': {conversion:.2%}\")"
   ]
  },
  {
   "cell_type": "markdown",
   "metadata": {},
   "source": [
    "#### f) ¿En qué etapa se pierden más usuarios?"
   ]
  },
  {
   "cell_type": "markdown",
   "metadata": {},
   "source": [
    "La mayor caída de usuarios ocurre en el paso con la conversión más baja. Esto se puede identificar visualmente de la salida de arriba."
   ]
  },
  {
   "cell_type": "markdown",
   "metadata": {},
   "source": [
    "#### g) ¿Qué porcentaje de usuarios hace todo el viaje?"
   ]
  },
  {
   "cell_type": "code",
   "execution_count": 28,
   "metadata": {},
   "outputs": [
    {
     "name": "stdout",
     "output_type": "stream",
     "text": [
      "\n",
      "🏁 El porcentaje de usuarios que completa todo el embudo es: 47.70%\n"
     ]
    }
   ],
   "source": [
    "total_conversion = funnel_users.iloc[-1] / funnel_users.iloc[0]\n",
    "print(f\"\\n🏁 El porcentaje de usuarios que completa todo el embudo es: {total_conversion:.2%}\")"
   ]
  },
  {
   "cell_type": "markdown",
   "metadata": {},
   "source": [
    "Se calcula y se muestra la tasa de conversión para cada etapa del embudo. Este análisis es vital para identificar los puntos de fricción, es decir, las etapas donde la mayoría de los usuarios abandonan el proceso, lo cual es la principal información de negocio."
   ]
  },
  {
   "cell_type": "code",
   "execution_count": 29,
   "metadata": {},
   "outputs": [
    {
     "name": "stdout",
     "output_type": "stream",
     "text": [
      "\n",
      "✅ Análisis del embudo de eventos completado.\n"
     ]
    }
   ],
   "source": [
    "print(\"\\n✅ Análisis del embudo de eventos completado.\")"
   ]
  },
  {
   "cell_type": "markdown",
   "metadata": {},
   "source": [
    "## 📊 Habilidad: Análisis Estadístico y de Negocio 💼"
   ]
  },
  {
   "cell_type": "markdown",
   "metadata": {},
   "source": [
    "## 🧪 Sección 4: Estudio de los Resultados del Experimento"
   ]
  },
  {
   "cell_type": "markdown",
   "metadata": {},
   "source": [
    "Análisis del Experimento 📊\n",
    "Aquí se utiliza el Análisis Estadístico para determinar si los cambios implementados en el experimento tienen un efecto real. Utilizaremos pruebas estadísticas para comparar los grupos de control (A/A) y los grupos de control vs. el de prueba (A/B). Nuestro objetivo es determinar si las diferencias observadas son estadísticamente significativas."
   ]
  },
  {
   "cell_type": "code",
   "execution_count": 30,
   "metadata": {},
   "outputs": [
    {
     "name": "stdout",
     "output_type": "stream",
     "text": [
      "\n",
      "Iniciando la sección de Análisis del Experimento... 📊\n"
     ]
    }
   ],
   "source": [
    "print(\"\\nIniciando la sección de Análisis del Experimento... 📊\")"
   ]
  },
  {
   "cell_type": "markdown",
   "metadata": {},
   "source": [
    "#### a) ¿Cuántos usuarios hay en cada grupo?"
   ]
  },
  {
   "cell_type": "code",
   "execution_count": 31,
   "metadata": {},
   "outputs": [
    {
     "name": "stdout",
     "output_type": "stream",
     "text": [
      "\n",
      "👥 Número de usuarios por grupo de experimento:\n",
      "exp_id\n",
      "246    2484\n",
      "247    2513\n",
      "248    2537\n",
      "Name: device_id_hash, dtype: int64\n"
     ]
    }
   ],
   "source": [
    "users_by_group = filtered_df.groupby('exp_id')['device_id_hash'].nunique()\n",
    "print(\"\\n👥 Número de usuarios por grupo de experimento:\")\n",
    "print(users_by_group)"
   ]
  },
  {
   "cell_type": "markdown",
   "metadata": {},
   "source": [
    "##### Prueba A/A de Control:"
   ]
  },
  {
   "cell_type": "markdown",
   "metadata": {},
   "source": [
    "#### b) Prueba A/A: Comprobar la diferencia estadística entre 246 y 247."
   ]
  },
  {
   "cell_type": "code",
   "execution_count": 32,
   "metadata": {},
   "outputs": [
    {
     "name": "stdout",
     "output_type": "stream",
     "text": [
      "\n",
      "🧪 Realizando pruebas A/A/B con un nivel de significancia de alpha = 0.05\n",
      "\n",
      "Comparando los grupos de control (A/A - 246 vs 247):\n",
      "   - Evento 'Tutorial': p-valor = 0.938 -> ✅ No hay diferencia significativa.\n",
      "   - Evento 'MainScreenAppear': p-valor = 0.757 -> ✅ No hay diferencia significativa.\n",
      "   - Evento 'OffersScreenAppear': p-valor = 0.248 -> ✅ No hay diferencia significativa.\n",
      "   - Evento 'CartScreenAppear': p-valor = 0.229 -> ✅ No hay diferencia significativa.\n",
      "   - Evento 'PaymentScreenSuccessful': p-valor = 0.115 -> ✅ No hay diferencia significativa.\n",
      "\n",
      "✅ La prueba A/A confirma que los grupos 246 y 247 son estadísticamente similares.\n"
     ]
    }
   ],
   "source": [
    "# Creamos una función para la prueba Z.\n",
    "def check_statistical_significance(df, group1, group2, event, alpha):\n",
    "\n",
    "    # Obtenemos los usuarios únicos en cada grupo.\n",
    "    users_in_group1 = df[df['exp_id'] == group1]['device_id_hash'].nunique()\n",
    "    users_in_group2 = df[df['exp_id'] == group2]['device_id_hash'].nunique()\n",
    "        \n",
    "    # Contamos los usuarios que hicieron el evento en cada grupo.\n",
    "    event_users_group1 = df[(df['exp_id'] == group1) & (df['event_name'] == event)]['device_id_hash'].nunique()\n",
    "    event_users_group2 = df[(df['exp_id'] == group2) & (df['event_name'] == event)]['device_id_hash'].nunique()\n",
    "    # Calculamos las proporciones.\n",
    "    p1 = event_users_group1 / users_in_group1\n",
    "    p2 = event_users_group2 / users_in_group2\n",
    "        \n",
    "    # Calculamos la proporción combinada.\n",
    "    p_combined = (event_users_group1 + event_users_group2) / (users_in_group1 + users_in_group2)\n",
    "        \n",
    "    # Calculamos la diferencia estándar.\n",
    "    diff_std = np.sqrt(p_combined * (1 - p_combined) * (1 / users_in_group1 + 1 / users_in_group2))\n",
    "        \n",
    "    # Calculamos el estadístico Z.\n",
    "    z_value = (p1 - p2) / diff_std\n",
    "        \n",
    "    # Calculamos el p-valor.\n",
    "    p_value = (1 - st.norm.cdf(abs(z_value))) * 2\n",
    "        \n",
    "\n",
    "    print(f\"   - Evento '{event}': p-valor = {p_value:.3f}\", end=\"\")\n",
    "    if p_value < alpha:\n",
    "        print(\" -> ❌ Diferencia significativa.\")\n",
    "    else:\n",
    "        print(\" -> ✅ No hay diferencia significativa.\")\n",
    "    return p_value\n",
    "    \n",
    "# Pruebas A/A y A/B\n",
    "alpha = 0.05  # AQUI PODEMOS JUGAR CON EL NIVEL DE SIGNIFICANCIA (DE 0.05 A 0.0025) \n",
    "event_names = filtered_df['event_name'].unique()\n",
    "\n",
    "print(f\"\\n🧪 Realizando pruebas A/A/B con un nivel de significancia de alpha = {alpha}\")\n",
    "\n",
    "print(\"\\nComparando los grupos de control (A/A - 246 vs 247):\")\n",
    "for event in event_names:\n",
    "    check_statistical_significance(filtered_df, 246, 247, event, alpha)\n",
    "\n",
    "print(\"\\n✅ La prueba A/A confirma que los grupos 246 y 247 son estadísticamente similares.\")"
   ]
  },
  {
   "cell_type": "markdown",
   "metadata": {},
   "source": [
    "Se lleva a cabo una prueba A/A (comparando los grupos 246 y 247) para validar que los grupos de control son estadísticamente idénticos. Esto es un paso crítico. Si los grupos no son comparables, cualquier resultado del test A/B no sería confiable."
   ]
  },
  {
   "cell_type": "markdown",
   "metadata": {},
   "source": [
    "##### Prueba A/B (Control vs. Prueba):"
   ]
  },
  {
   "cell_type": "markdown",
   "metadata": {},
   "source": [
    "#### c) Pruebas A/B: Comparar el grupo de prueba (248) con los de control."
   ]
  },
  {
   "cell_type": "code",
   "execution_count": 33,
   "metadata": {},
   "outputs": [
    {
     "name": "stdout",
     "output_type": "stream",
     "text": [
      "\n",
      "Comparando el grupo de prueba (248) con el grupo de control 246:\n",
      "   - Evento 'Tutorial': p-valor = 0.826 -> ✅ No hay diferencia significativa.\n",
      "   - Evento 'MainScreenAppear': p-valor = 0.295 -> ✅ No hay diferencia significativa.\n",
      "   - Evento 'OffersScreenAppear': p-valor = 0.208 -> ✅ No hay diferencia significativa.\n",
      "   - Evento 'CartScreenAppear': p-valor = 0.078 -> ✅ No hay diferencia significativa.\n",
      "   - Evento 'PaymentScreenSuccessful': p-valor = 0.212 -> ✅ No hay diferencia significativa.\n",
      "\n",
      "Comparando el grupo de prueba (248) con el grupo de control 247:\n",
      "   - Evento 'Tutorial': p-valor = 0.765 -> ✅ No hay diferencia significativa.\n",
      "   - Evento 'MainScreenAppear': p-valor = 0.459 -> ✅ No hay diferencia significativa.\n",
      "   - Evento 'OffersScreenAppear': p-valor = 0.920 -> ✅ No hay diferencia significativa.\n",
      "   - Evento 'CartScreenAppear': p-valor = 0.579 -> ✅ No hay diferencia significativa.\n",
      "   - Evento 'PaymentScreenSuccessful': p-valor = 0.737 -> ✅ No hay diferencia significativa.\n"
     ]
    }
   ],
   "source": [
    "print(\"\\nComparando el grupo de prueba (248) con el grupo de control 246:\")\n",
    "for event in event_names:\n",
    "    check_statistical_significance(filtered_df, 248, 246, event, alpha)\n",
    "        \n",
    "print(\"\\nComparando el grupo de prueba (248) con el grupo de control 247:\")\n",
    "for event in event_names:\n",
    "    check_statistical_significance(filtered_df, 248, 247, event, alpha)"
   ]
  },
  {
   "cell_type": "markdown",
   "metadata": {},
   "source": [
    "#### d) Comparar con los grupos de control combinados."
   ]
  },
  {
   "cell_type": "markdown",
   "metadata": {},
   "source": [
    "Para esto, primero agrupamos los datos de los grupos 246 y 247."
   ]
  },
  {
   "cell_type": "code",
   "execution_count": 34,
   "metadata": {},
   "outputs": [
    {
     "name": "stdout",
     "output_type": "stream",
     "text": [
      "\n",
      "Comparando el grupo de prueba (248) con los grupos de control combinados (246 + 247):\n",
      "   - Evento 'Tutorial': p-valor = 0.765 -> ✅ No hay diferencia significativa.\n",
      "   - Evento 'MainScreenAppear': p-valor = 0.294 -> ✅ No hay diferencia significativa.\n",
      "   - Evento 'OffersScreenAppear': p-valor = 0.434 -> ✅ No hay diferencia significativa.\n",
      "   - Evento 'CartScreenAppear': p-valor = 0.182 -> ✅ No hay diferencia significativa.\n",
      "   - Evento 'PaymentScreenSuccessful': p-valor = 0.600 -> ✅ No hay diferencia significativa.\n"
     ]
    }
   ],
   "source": [
    "print(\"\\nComparando el grupo de prueba (248) con los grupos de control combinados (246 + 247):\")\n",
    "control_group_df = filtered_df[filtered_df['exp_id'].isin([246, 247])]\n",
    "test_group_df = filtered_df[filtered_df['exp_id'] == 248]\n",
    "for event in event_names:\n",
    "\n",
    "    # Obtenemos los usuarios únicos en los grupos.\n",
    "    users_in_control = control_group_df['device_id_hash'].nunique()\n",
    "    users_in_test = test_group_df['device_id_hash'].nunique()\n",
    "        \n",
    "    # Contamos los usuarios que hicieron el evento en cada grupo.\n",
    "    event_users_control = control_group_df[control_group_df['event_name'] == event]['device_id_hash'].nunique()\n",
    "    event_users_test = test_group_df[test_group_df['event_name'] == event]['device_id_hash'].nunique()\n",
    "\n",
    "    # Calculamos las proporciones.\n",
    "    p1 = event_users_test / users_in_test\n",
    "    p2 = event_users_control / users_in_control\n",
    "        \n",
    "    # Calculamos la proporción combinada.\n",
    "    p_combined = (event_users_test + event_users_control) / (users_in_test + users_in_control)\n",
    "        \n",
    "    # Calculamos la diferencia estándar.\n",
    "    diff_std = np.sqrt(p_combined * (1 - p_combined) * (1 / users_in_test + 1 / users_in_control))\n",
    "        \n",
    "    # Calculamos el estadístico Z.\n",
    "    z_value = (p1 - p2) / diff_std\n",
    "        \n",
    "    # Calculamos el p-valor.\n",
    "    p_value = (1 - st.norm.cdf(abs(z_value))) * 2\n",
    "        \n",
    "    print(f\"   - Evento '{event}': p-valor = {p_value:.3f}\", end=\"\")\n",
    "    if p_value < alpha:\n",
    "        print(\" -> ❌ Diferencia significativa.\")\n",
    "    else:\n",
    "        print(\" -> ✅ No hay diferencia significativa.\")"
   ]
  },
  {
   "cell_type": "markdown",
   "metadata": {},
   "source": [
    "Se realizan pruebas A/B comparando el grupo de prueba (248) con cada uno de los grupos de control (246 y 247) por separado, y luego con los grupos de control combinados. La prueba utilizada es una Prueba Z para Proporciones, que determina si la diferencia en la tasa de conversión para cada evento es estadísticamente significativa."
   ]
  },
  {
   "cell_type": "markdown",
   "metadata": {},
   "source": [
    "## 📋 Sección 5: Conclusiones del experimento.\n"
   ]
  },
  {
   "cell_type": "markdown",
   "metadata": {},
   "source": [
    "💡 **Conclusiones del experimento:**\n",
    "\n",
    "* Analizamos los p-valores de las pruebas A/B para determinar si existe una diferencia estadísticamente significativa en el comportamiento de los usuarios entre el grupo de prueba (248) y los grupos de control (246 y 247).\n",
    "* Los p-valores son mayores que el nivel de significancia de 0.05. Por lo tanto, no podemos rechazar la hipótesis nula. Esto indica que no hay una diferencia estadísticamente significativa en las tasas de conversión entre los grupos.\n",
    "* Concluimos que el cambio en el tipo de fuente no tuvo un impacto medible en el comportamiento de los usuarios.\n",
    "* El experimento no demostró algo significativo, por lo que no hay razón para implementarlo.\n",
    "\n",
    "**Prueba A/A (Grupos 246 vs. 247):** \n",
    "La prueba A/A entre los grupos de control (246 y 247) mostró que no había diferencias significativas en el comportamiento del usuario. Esto es un resultado positivo, ya que confirma que los grupos se dividieron correctamente y son comparables entre sí.\n",
    "\n",
    "**Prueba A/B (Grupos de control vs. Grupo 248):** \n",
    "Las pruebas A/B que compararon el grupo de prueba (248) con los grupos de control (246, 247 y la combinación de ambos) en todos los eventos clave del embudo de ventas, mostraron p-valores consistentemente por encima de 0.05.\n",
    "\n",
    "**Conclusión Final**\n",
    "Dado que los p-valores son mayores que el nivel de significancia (α=0.05), no se puede rechazar la hipótesis nula. Esto significa que no hay evidencia estadística de que el cambio de fuente haya tenido un impacto significativo en la tasa de conversión o en el comportamiento del usuario.\n",
    "\n",
    "En términos de **negocio**, esto implica que:\n",
    "* El nuevo diseño de fuente no mejoró la experiencia del usuario ni impulsó una mayor conversión.\n",
    "* No hay una justificación basada en los datos para implementar este cambio para todos los usuarios.\n",
    "\n",
    "Aunque no fue un resultado que se esperaba, es una conclusión valiosa, ya que evita que la empresa invierta más recursos en un cambio que no demuestra un beneficio claro.\n",
    "\n",
    "Con base en estos resultados, podemos concluir el experimento de la siguiente manera:\n",
    "**El experimento fue un fracaso.** desde un punto de vista estadístico."
   ]
  },
  {
   "cell_type": "markdown",
   "metadata": {},
   "source": [
    "## ❓ Sección 6: Cuestionario"
   ]
  },
  {
   "cell_type": "markdown",
   "metadata": {},
   "source": [
    "#### a) Análisis de Datos Generales y Limpieza"
   ]
  },
  {
   "cell_type": "markdown",
   "metadata": {},
   "source": [
    "* **¿Cuántos eventos y usuarios hay?**\n",
    "Eventos totales: 244,126\n",
    "Usuarios totales: 7,551\n",
    "\n",
    "* **¿Cuál es el promedio de eventos por usuario?**\n",
    "Promedio: 32.33 eventos por usuario.\n",
    "\n",
    "* **¿Qué periodo de tiempo cubren los datos?**\n",
    "Periodo original: desde el 25 de julio de 2019 hasta el 7 de agosto de 2019.\n",
    "\n",
    "* **¿Puedes tener seguridad de que tienes datos igualmente completos para todo el periodo?**\n",
    "No. El histograma mostró un salto brusco en el número de eventos alrededor del 1 de agosto de 2019. Esto indica que los datos están incompletos en el período anterior.\n",
    "\n",
    "* **¿Qué periodo representan realmente los datos?**\n",
    "El análisis se centra en el período con datos completos: del 1 de agosto de 2019 al 7 de agosto de 2019.\n",
    "\n",
    "* **¿Perdiste muchos eventos y usuarios al excluir los datos más antiguos?**\n",
    "No, la pérdida es mínima. Se excluyó el 1.16% de los eventos y el 0.23% de los usuarios, lo que indica que los datos incompletos eran una porción muy pequeña del total."
   ]
  },
  {
   "cell_type": "markdown",
   "metadata": {},
   "source": [
    "#### b. Análisis del Embudo de Eventos"
   ]
  },
  {
   "cell_type": "markdown",
   "metadata": {},
   "source": [
    "* **¿En qué orden ocurrieron las acciones?**\n",
    "El orden lógico de las acciones es: MainScreenAppear (Pantalla principal) -> OffersScreenAppear (Pantalla de ofertas) -> CartScreenAppear (Pantalla del carrito) -> PaymentScreenSuccessful (Pago exitoso). El evento Tutorial no es parte de la secuencia principal y puede ser ignorado para el embudo de ventas.\n",
    "\n",
    "* **¿En qué etapa pierdes más usuarios?**\n",
    "La mayor pérdida de usuarios ocurre entre la MainScreenAppear y la OffersScreenAppear, con una tasa de conversión del 61.91%. Esto significa que más del 38% de los usuarios que llegan a la pantalla principal no continúan hacia la pantalla de ofertas.\n",
    "\n",
    "* **¿Qué porcentaje de usuarios hace todo el viaje?**\n",
    "El 47.70% de los usuarios que llegan a la pantalla principal completan todo el embudo hasta el pago."
   ]
  },
  {
   "cell_type": "markdown",
   "metadata": {},
   "source": [
    "#### c) Análisis del Experimento A/B"
   ]
  },
  {
   "cell_type": "markdown",
   "metadata": {},
   "source": [
    "* **¿Cuántos usuarios hay en cada grupo?**\n",
    "* Grupo 246: 2,484 usuarios\n",
    "* Grupo 247: 2,513 usuarios\n",
    "* Grupo 248: 2,537 usuarios\n",
    "\n",
    "* **¿Qué nivel de significancia has establecido?**\n",
    "Se estableció un nivel de significancia (α) de 0.05.\n",
    "\n",
    "* **¿Cuántas pruebas de hipótesis has realizado?**\n",
    "Se realizaron 5 eventos por 4 comparaciones:\n",
    "\n",
    "* Comparación A/A: 5 pruebas\n",
    "* Comparación A/B (246): 5 pruebas\n",
    "* Comparación A/B (247): 5 pruebas\n",
    "* Comparación A/B (combinados): 5 pruebas\n",
    "\n",
    "**Total: 20 pruebas de hipótesis estadísticas.**\n",
    "\n",
    "**¿Cuál debería ser el nivel de significancia?**\n",
    "Con tantas pruebas, aumenta la probabilidad de obtener un resultado significativo por casualidad (falso positivo). Para corregir esto, se suele aplicar el método de Bonferroni, que ajusta el nivel de significancia.\n",
    "\n",
    "* **Nivel de significancia ajustado:** 0.0025.   (0.05 / 20)"
   ]
  },
  {
   "cell_type": "markdown",
   "metadata": {},
   "source": [
    "## 🤔 Sección 7. ¿Que pasaria si cambiaramos el valor de sigificancia a 0.0025?"
   ]
  },
  {
   "cell_type": "code",
   "execution_count": 35,
   "metadata": {},
   "outputs": [
    {
     "name": "stdout",
     "output_type": "stream",
     "text": [
      "Iniciando la sección de Procesamiento de Datos... 🛠️\n",
      "✅ Archivo de datos cargado correctamente.\n",
      "✅ Columnas renombradas para mayor claridad.\n",
      "\n",
      "🔍 Información general del DataFrame antes de la preparación:\n",
      "<class 'pandas.core.frame.DataFrame'>\n",
      "RangeIndex: 244126 entries, 0 to 244125\n",
      "Data columns (total 4 columns):\n",
      " #   Column           Non-Null Count   Dtype \n",
      "---  ------           --------------   ----- \n",
      " 0   event_name       244126 non-null  object\n",
      " 1   device_id_hash   244126 non-null  int64 \n",
      " 2   event_timestamp  244126 non-null  int64 \n",
      " 3   exp_id           244126 non-null  int64 \n",
      "dtypes: int64(3), object(1)\n",
      "memory usage: 7.5+ MB\n",
      "None\n",
      "\n",
      "✅ Tipos de datos corregidos y columnas de tiempo agregadas.\n",
      "\n",
      "✅ DataFrame preparado y listo para el análisis exploratorio.\n",
      "\n",
      "--------------------------------------------------------------------------------\n",
      "\n",
      "Iniciando la sección de Análisis Exploratorio (EDA)... 🕵️‍♀️\n",
      "\n",
      "📊 Hay 244,126 eventos en los registros.\n",
      "👥 Hay 7,551 usuarios únicos en los registros.\n",
      "📊 El promedio de eventos por usuario es de 32.33.\n",
      "\n",
      "📅 Los datos cubren el período desde 2019-07-25 04:43:36 hasta 2019-08-07 21:15:17.\n"
     ]
    },
    {
     "data": {
      "image/png": "[encoded data removed]",
      "text/plain": [
       "<Figure size 1500x600 with 1 Axes>"
      ]
     },
     "metadata": {},
     "output_type": "display_data"
    },
    {
     "name": "stdout",
     "output_type": "stream",
     "text": [
      "\n",
      "✅ Después de la limpieza, el análisis se centrará en el período desde 2019-08-01 hasta 2019-08-07.\n",
      "❌ Se perdieron 1.16% de los eventos y 0.23% de los usuarios al excluir los datos más antiguos.\n",
      "\n",
      "👥 Usuarios únicos por grupo de experimento (ExpId):\n",
      "exp_id\n",
      "246    2484\n",
      "247    2513\n",
      "248    2537\n",
      "Name: device_id_hash, dtype: int64\n",
      "\n",
      "✅ EDA completado. Los datos están listos para el análisis de embudo y experimento.\n",
      "\n",
      "--------------------------------------------------------------------------------\n",
      "\n",
      "Iniciando la sección de Análisis del Embudo de Eventos... 💼\n",
      "\n",
      "🎯 Frecuencia de eventos:\n",
      "MainScreenAppear           117431\n",
      "OffersScreenAppear          46350\n",
      "CartScreenAppear            42365\n",
      "PaymentScreenSuccessful     34113\n",
      "Tutorial                     1039\n",
      "Name: event_name, dtype: int64\n",
      "\n",
      "👥 Número de usuarios únicos por evento:\n",
      "event_name\n",
      "MainScreenAppear           7419\n",
      "OffersScreenAppear         4593\n",
      "CartScreenAppear           3734\n",
      "PaymentScreenSuccessful    3539\n",
      "Tutorial                    840\n",
      "Name: device_id_hash, dtype: int64\n",
      "\n",
      "📈 Proporción de usuarios únicos por evento:\n",
      "event_name\n",
      "MainScreenAppear          0.98\n",
      "OffersScreenAppear        0.61\n",
      "CartScreenAppear          0.50\n",
      "PaymentScreenSuccessful   0.47\n",
      "Tutorial                  0.11\n",
      "Name: device_id_hash, dtype: float64\n",
      "\n",
      "🚀 Analizando el embudo de ventas...\n",
      "event_name\n",
      "MainScreenAppear           7419\n",
      "OffersScreenAppear         4593\n",
      "CartScreenAppear           3734\n",
      "PaymentScreenSuccessful    3539\n",
      "Name: device_id_hash, dtype: int64\n",
      "\n",
      "📊 Tasa de conversión de una etapa a la siguiente:\n",
      "👉 De 'MainScreenAppear' a 'OffersScreenAppear': 61.91%\n",
      "👉 De 'OffersScreenAppear' a 'CartScreenAppear': 81.30%\n",
      "👉 De 'CartScreenAppear' a 'PaymentScreenSuccessful': 94.78%\n",
      "\n",
      "🏁 El porcentaje de usuarios que completa todo el embudo es: 47.70%\n",
      "\n",
      "✅ Análisis del embudo de eventos completado.\n",
      "\n",
      "--------------------------------------------------------------------------------\n",
      "\n",
      "Iniciando la sección de Análisis del Experimento... 📊\n",
      "\n",
      "👥 Número de usuarios por grupo de experimento:\n",
      "exp_id\n",
      "246    2484\n",
      "247    2513\n",
      "248    2537\n",
      "Name: device_id_hash, dtype: int64\n",
      "\n",
      "🧪 Realizando pruebas A/A/B con un nivel de significancia de alpha = 0.0025\n",
      "\n",
      "Comparando los grupos de control (A/A - 246 vs 247):\n",
      "   - Evento 'Tutorial': p-valor = 0.938 -> ✅ No hay diferencia significativa.\n",
      "   - Evento 'MainScreenAppear': p-valor = 0.757 -> ✅ No hay diferencia significativa.\n",
      "   - Evento 'OffersScreenAppear': p-valor = 0.248 -> ✅ No hay diferencia significativa.\n",
      "   - Evento 'CartScreenAppear': p-valor = 0.229 -> ✅ No hay diferencia significativa.\n",
      "   - Evento 'PaymentScreenSuccessful': p-valor = 0.115 -> ✅ No hay diferencia significativa.\n",
      "\n",
      "✅ La prueba A/A confirma que los grupos 246 y 247 son estadísticamente similares, lo que nos permite confiar en la división.\n",
      "\n",
      "Comparando el grupo de prueba (248) con el grupo de control 246:\n",
      "   - Evento 'Tutorial': p-valor = 0.826 -> ✅ No hay diferencia significativa.\n",
      "   - Evento 'MainScreenAppear': p-valor = 0.295 -> ✅ No hay diferencia significativa.\n",
      "   - Evento 'OffersScreenAppear': p-valor = 0.208 -> ✅ No hay diferencia significativa.\n",
      "   - Evento 'CartScreenAppear': p-valor = 0.078 -> ✅ No hay diferencia significativa.\n",
      "   - Evento 'PaymentScreenSuccessful': p-valor = 0.212 -> ✅ No hay diferencia significativa.\n",
      "\n",
      "Comparando el grupo de prueba (248) con el grupo de control 247:\n",
      "   - Evento 'Tutorial': p-valor = 0.765 -> ✅ No hay diferencia significativa.\n",
      "   - Evento 'MainScreenAppear': p-valor = 0.459 -> ✅ No hay diferencia significativa.\n",
      "   - Evento 'OffersScreenAppear': p-valor = 0.920 -> ✅ No hay diferencia significativa.\n",
      "   - Evento 'CartScreenAppear': p-valor = 0.579 -> ✅ No hay diferencia significativa.\n",
      "   - Evento 'PaymentScreenSuccessful': p-valor = 0.737 -> ✅ No hay diferencia significativa.\n",
      "\n",
      "Comparando el grupo de prueba (248) con los grupos de control combinados (246 + 247):\n",
      "   - Evento 'Tutorial': p-valor = 0.765 -> ✅ No hay diferencia significativa.\n",
      "   - Evento 'MainScreenAppear': p-valor = 0.294 -> ✅ No hay diferencia significativa.\n",
      "   - Evento 'OffersScreenAppear': p-valor = 0.434 -> ✅ No hay diferencia significativa.\n",
      "   - Evento 'CartScreenAppear': p-valor = 0.182 -> ✅ No hay diferencia significativa.\n",
      "   - Evento 'PaymentScreenSuccessful': p-valor = 0.600 -> ✅ No hay diferencia significativa.\n",
      "\n",
      "✅ Análisis del experimento completado.\n",
      "\n",
      "--------------------------------------------------------------------------------\n"
     ]
    }
   ],
   "source": [
    "\"\"\"\n",
    "Se creó este código en forma de funciones para poder jugar con los niveles de significancia \n",
    "y tener rápidamente todos los resultados de una manera mas visual. \n",
    "\n",
    "Análisis del comportamiento del usuario y resultados de un test A/A/B.\n",
    "\n",
    "Este script realiza un análisis completo del comportamiento del usuario\n",
    "para una aplicación de venta de alimentos, estudiando un embudo de ventas\n",
    "y evaluando los resultados de un experimento A/A/B.\n",
    "\"\"\"\n",
    "\n",
    "# ---------------------------------------------------------------------------------\n",
    "# 📚 Sección 1: Procesamiento de Datos\n",
    "# Habilidad: Procesamiento de Datos 🛠️\n",
    "# ---------------------------------------------------------------------------------\n",
    "# Esta sección se enfoca en preparar los datos. Leeremos el archivo,\n",
    "# renombraremos las columnas, verificaremos los tipos de datos y manejaremos\n",
    "# cualquier valor faltante. Finalmente, crearemos nuevas columnas de tiempo.\n",
    "\n",
    "import pandas as pd\n",
    "import numpy as np\n",
    "from scipy import stats as st\n",
    "import matplotlib.pyplot as plt\n",
    "import seaborn as sns\n",
    "import datetime as dt\n",
    "\n",
    "# Configuración para una mejor visualización de gráficos.\n",
    "sns.set_style('whitegrid')\n",
    "pd.options.display.float_format = '{:,.2f}'.format\n",
    "\n",
    "\n",
    "def load_and_prepare_data(filepath):\n",
    "    \"\"\"\n",
    "    Carga el archivo de datos, lo limpia y lo prepara para el análisis.\n",
    "\n",
    "    Args:\n",
    "        filepath (str): La ruta del archivo CSV.\n",
    "\n",
    "    Returns:\n",
    "        pd.DataFrame: El DataFrame limpio y preparado.\n",
    "    \"\"\"\n",
    "    print(\"Iniciando la sección de Procesamiento de Datos... 🛠️\")\n",
    "\n",
    "    try:\n",
    "        # Paso 1: Abrir el archivo de datos y leer la información general.\n",
    "        df = pd.read_csv(filepath, sep='\\t')\n",
    "        print(\"✅ Archivo de datos cargado correctamente.\")\n",
    "    except FileNotFoundError:\n",
    "        print(f\"❌ Error: El archivo no se encuentra en la ruta: {filepath}\")\n",
    "        return None\n",
    "\n",
    "    # Paso 2: Preparar los datos para el análisis.\n",
    "    # a) Renombrar columnas para facilitar el trabajo.\n",
    "    df.columns = ['event_name', 'device_id_hash', 'event_timestamp', 'exp_id']\n",
    "    print(\"✅ Columnas renombradas para mayor claridad.\")\n",
    "\n",
    "    # b) Comprobar tipos de datos y valores ausentes.\n",
    "    print(\"\\n🔍 Información general del DataFrame antes de la preparación:\")\n",
    "    print(df.info())\n",
    "\n",
    "    # c) Convertir la columna de tiempo al formato correcto.\n",
    "    df['event_timestamp'] = pd.to_datetime(df['event_timestamp'], unit='s')\n",
    "\n",
    "    # d) Agregar una columna de fecha (sin hora).\n",
    "    df['event_date'] = df['event_timestamp'].dt.date\n",
    "\n",
    "    print(\"\\n✅ Tipos de datos corregidos y columnas de tiempo agregadas.\")\n",
    "    print(\"\\n✅ DataFrame preparado y listo para el análisis exploratorio.\")\n",
    "\n",
    "    return df\n",
    "\n",
    "# ---------------------------------------------------------------------------------\n",
    "# 📈 Sección 2: Análisis Exploratorio de Datos (EDA)\n",
    "# Habilidad: Análisis Exploratorio 🕵️‍♀️\n",
    "# ---------------------------------------------------------------------------------\n",
    "# En esta sección, exploraremos el conjunto de datos para entender su\n",
    "# estructura, el rango de tiempo que cubre y la distribución de eventos y usuarios.\n",
    "\n",
    "\n",
    "def explore_data(df):\n",
    "    \"\"\"\n",
    "    Realiza un análisis exploratorio del DataFrame de eventos.\n",
    "\n",
    "    Args:\n",
    "        df (pd.DataFrame): El DataFrame preparado.\n",
    "    \"\"\"\n",
    "    print(\"\\nIniciando la sección de Análisis Exploratorio (EDA)... 🕵️‍♀️\")\n",
    "\n",
    "    # Paso 3: Estudiar y comprobar los datos.\n",
    "\n",
    "    # a) ¿Cuántos eventos y usuarios hay?\n",
    "    total_events = len(df)\n",
    "    total_users = df['device_id_hash'].nunique()\n",
    "    print(f\"\\n📊 Hay {total_events:,} eventos en los registros.\")\n",
    "    print(f\"👥 Hay {total_users:,} usuarios únicos en los registros.\")\n",
    "\n",
    "    # b) ¿Cuál es el promedio de eventos por usuario?\n",
    "    avg_events_per_user = total_events / total_users\n",
    "    print(\n",
    "        f\"📊 El promedio de eventos por usuario es de {avg_events_per_user:.2f}.\")\n",
    "\n",
    "    # c) ¿Qué período de tiempo cubren los datos?\n",
    "    min_date = df['event_timestamp'].min()\n",
    "    max_date = df['event_timestamp'].max()\n",
    "    print(\n",
    "        f\"\\n📅 Los datos cubren el período desde {min_date} hasta {max_date}.\")\n",
    "\n",
    "    # d) Graficar un histograma por fecha y hora.\n",
    "    plt.figure(figsize=(15, 6))\n",
    "    df['event_timestamp'].hist(bins=100)\n",
    "    plt.title('Distribución de Eventos por Fecha y Hora')\n",
    "    plt.xlabel('Fecha y Hora')\n",
    "    plt.ylabel('Número de Eventos')\n",
    "    plt.show()\n",
    "\n",
    "    # 💡 Explicación de la gráfica:\n",
    "    # en este punto la gráfica nos definira el rango de tiempo a utilizar...\n",
    "\n",
    "    start_date_of_complete_data = dt.date(2019, 8, 1)\n",
    "\n",
    "    # f) Filtrar los datos si es necesario (basado en el histograma).\n",
    "    filtered_df = df[df['event_date'] >= start_date_of_complete_data].copy()\n",
    "\n",
    "    print(\n",
    "        f\"\\n✅ Después de la limpieza, el análisis se centrará en el período desde {start_date_of_complete_data} hasta {filtered_df['event_date'].max()}.\")\n",
    "\n",
    "    # g) ¿Cuántos datos se perdieron?\n",
    "    lost_events_percent = (1 - len(filtered_df) / total_events) * 100\n",
    "    lost_users_percent = (\n",
    "        1 - filtered_df['device_id_hash'].nunique() / total_users) * 100\n",
    "    print(f\"❌ Se perdieron {lost_events_percent:.2f}% de los eventos y {lost_users_percent:.2f}% de los usuarios al excluir los datos más antiguos.\")\n",
    "\n",
    "    # h) Asegurarse de tener usuarios de los tres grupos.\n",
    "    print(f\"\\n👥 Usuarios únicos por grupo de experimento (ExpId):\")\n",
    "    print(filtered_df.groupby('exp_id')['device_id_hash'].nunique())\n",
    "\n",
    "    print(\"\\n✅ EDA completado. Los datos están listos para el análisis de embudo y experimento.\")\n",
    "\n",
    "    return filtered_df\n",
    "\n",
    "# ---------------------------------------------------------------------------------\n",
    "# 📈 Sección 3: Estudio del Embudo de Eventos\n",
    "# Habilidad: Análisis de Negocio 💼 y Explicación de Datos 🗣️\n",
    "# ---------------------------------------------------------------------------------\n",
    "# Esta sección se centra en el análisis del embudo de ventas. Buscaremos\n",
    "# los eventos más comunes, determinaremos la secuencia de los mismos y\n",
    "# calcularemos las tasas de conversión para cada etapa.\n",
    "\n",
    "\n",
    "def analyze_event_funnel(df):\n",
    "    \"\"\"\n",
    "    Analiza el embudo de eventos para entender el flujo de los usuarios.\n",
    "\n",
    "    Args:\n",
    "        df (pd.DataFrame): El DataFrame filtrado.\n",
    "    \"\"\"\n",
    "    print(\"\\nIniciando la sección de Análisis del Embudo de Eventos... 💼\")\n",
    "\n",
    "    # a) Observar qué eventos hay y su frecuencia.\n",
    "    event_counts = df['event_name'].value_counts()\n",
    "    print(\"\\n🎯 Frecuencia de eventos:\")\n",
    "    print(event_counts)\n",
    "\n",
    "    # b) Encontrar la cantidad de usuarios que realizaron cada acción.\n",
    "    user_counts_by_event = df.groupby(\n",
    "        'event_name')['device_id_hash'].nunique().sort_values(ascending=False)\n",
    "    print(\"\\n👥 Número de usuarios únicos por evento:\")\n",
    "    print(user_counts_by_event)\n",
    "\n",
    "    # c) Calcular la proporción de usuarios que realizaron la acción al menos una vez.\n",
    "    total_unique_users = df['device_id_hash'].nunique()\n",
    "    user_proportion = user_counts_by_event / total_unique_users\n",
    "    print(\"\\n📈 Proporción de usuarios únicos por evento:\")\n",
    "    print(user_proportion)\n",
    "\n",
    "    # d) Crear el embudo de eventos.\n",
    "    # Basado en la lógica de un embudo de ventas, la secuencia probable es:\n",
    "    # 1. MainScreenAppear (pantalla principal) -> 2. OffersScreenAppear (pantalla de ofertas)\n",
    "    # 3. CartScreenAppear (pantalla del carrito) -> 4. PaymentScreenSuccessful (pago exitoso)\n",
    "    funnel = ['MainScreenAppear', 'OffersScreenAppear',\n",
    "              'CartScreenAppear', 'PaymentScreenSuccessful']\n",
    "\n",
    "    funnel_users = user_counts_by_event.loc[funnel]\n",
    "\n",
    "    print(\"\\n🚀 Analizando el embudo de ventas...\")\n",
    "    print(funnel_users)\n",
    "\n",
    "    # e) Calcular la proporción de usuarios que pasan de una etapa a la siguiente.\n",
    "    funnel_conversion = (funnel_users.shift(1) / funnel_users).iloc[1:]\n",
    "    funnel_conversion = (funnel_users / funnel_users.shift(1)).iloc[1:]\n",
    "\n",
    "    print(\"\\n📊 Tasa de conversión de una etapa a la siguiente:\")\n",
    "    for i in range(len(funnel) - 1):\n",
    "        step_from = funnel[i]\n",
    "        step_to = funnel[i+1]\n",
    "        conversion = funnel_users.loc[step_to] / funnel_users.loc[step_from]\n",
    "        print(f\"👉 De '{step_from}' a '{step_to}': {conversion:.2%}\")\n",
    "\n",
    "    # f) ¿En qué etapa se pierden más usuarios?\n",
    "    # La mayor caída de usuarios ocurre en el paso con la conversión más baja.\n",
    "    # Esto se puede identificar visualmente de la salida de arriba.\n",
    "\n",
    "    # g) ¿Qué porcentaje de usuarios hace todo el viaje?\n",
    "    total_conversion = funnel_users.iloc[-1] / funnel_users.iloc[0]\n",
    "    print(\n",
    "        f\"\\n🏁 El porcentaje de usuarios que completa todo el embudo es: {total_conversion:.2%}\")\n",
    "\n",
    "    print(\"\\n✅ Análisis del embudo de eventos completado.\")\n",
    "\n",
    "# ---------------------------------------------------------------------------------\n",
    "# 🧪 Sección 4: Estudio de los Resultados del Experimento\n",
    "# Habilidad: Análisis Estadístico 📊 y de Negocio 💼\n",
    "# ---------------------------------------------------------------------------------\n",
    "# Aquí utilizaremos pruebas estadísticas para comparar los grupos de\n",
    "# control (A/A) y los grupos de control vs. el de prueba (A/B). Nuestro\n",
    "# objetivo es determinar si las diferencias observadas son estadísticamente\n",
    "# significativas.\n",
    "\n",
    "\n",
    "def analyze_experiment(df):\n",
    "    \"\"\"\n",
    "    Analiza los resultados del test A/A/B.\n",
    "\n",
    "    Args:\n",
    "        df (pd.DataFrame): El DataFrame filtrado.\n",
    "    \"\"\"\n",
    "    print(\"\\nIniciando la sección de Análisis del Experimento... 📊\")\n",
    "\n",
    "    # a) ¿Cuántos usuarios hay en cada grupo?\n",
    "    users_by_group = df.groupby('exp_id')['device_id_hash'].nunique()\n",
    "    print(\"\\n👥 Número de usuarios por grupo de experimento:\")\n",
    "    print(users_by_group)\n",
    "\n",
    "    # AQUI ESTA EL NIVLE DE SIGNIFICANCIA ALPHA\n",
    "\n",
    "    # b) Prueba A/A: Comprobar la diferencia estadística entre 246 y 247.\n",
    "    alpha = 0.0025  # Establecemos el nivel de significancia. (AQUI PODEMOS MODIFICARLO)\n",
    "\n",
    "    print(\n",
    "        f\"\\n🧪 Realizando pruebas A/A/B con un nivel de significancia de alpha = {alpha}\")\n",
    "\n",
    "    event_names = df['event_name'].unique()\n",
    "\n",
    "    # Creamos una función para la prueba Z.\n",
    "    def check_statistical_significance(group1, group2, event, alpha):\n",
    "        \"\"\"\n",
    "        Realiza una prueba Z para comparar la proporción de usuarios que\n",
    "        realizan un evento entre dos grupos.\n",
    "        \"\"\"\n",
    "        # Obtenemos los usuarios únicos en cada grupo.\n",
    "        users_in_group1 = df[df['exp_id'] ==\n",
    "                             group1]['device_id_hash'].nunique()\n",
    "        users_in_group2 = df[df['exp_id'] ==\n",
    "                             group2]['device_id_hash'].nunique()\n",
    "\n",
    "        # Contamos los usuarios que hicieron el evento en cada grupo.\n",
    "        event_users_group1 = df[(df['exp_id'] == group1) & (\n",
    "            df['event_name'] == event)]['device_id_hash'].nunique()\n",
    "        event_users_group2 = df[(df['exp_id'] == group2) & (\n",
    "            df['event_name'] == event)]['device_id_hash'].nunique()\n",
    "\n",
    "        # Calculamos las proporciones.\n",
    "        p1 = event_users_group1 / users_in_group1\n",
    "        p2 = event_users_group2 / users_in_group2\n",
    "\n",
    "        # Calculamos la proporción combinada.\n",
    "        p_combined = (event_users_group1 + event_users_group2) / \\\n",
    "            (users_in_group1 + users_in_group2)\n",
    "\n",
    "        # Calculamos la diferencia estándar.\n",
    "        diff_std = np.sqrt(p_combined * (1 - p_combined) *\n",
    "                           (1 / users_in_group1 + 1 / users_in_group2))\n",
    "\n",
    "        # Calculamos el estadístico Z.\n",
    "        z_value = (p1 - p2) / diff_std\n",
    "\n",
    "        # Calculamos el p-valor.\n",
    "        p_value = (1 - st.norm.cdf(abs(z_value))) * 2\n",
    "\n",
    "        print(f\"   - Evento '{event}': p-valor = {p_value:.3f}\", end=\"\")\n",
    "        if p_value < alpha:\n",
    "            print(\" -> ❌ Diferencia significativa.\")\n",
    "        else:\n",
    "            print(\" -> ✅ No hay diferencia significativa.\")\n",
    "\n",
    "        return p_value\n",
    "\n",
    "    print(\"\\nComparando los grupos de control (A/A - 246 vs 247):\")\n",
    "    aa_test_results = {}\n",
    "    for event in event_names:\n",
    "        p_value = check_statistical_significance(246, 247, event, alpha)\n",
    "        aa_test_results[event] = p_value\n",
    "\n",
    "    print(\"\\n✅ La prueba A/A confirma que los grupos 246 y 247 son estadísticamente similares, lo que nos permite confiar en la división.\")\n",
    "\n",
    "    # c) Pruebas A/B: Comparar el grupo de prueba (248) con los de control.\n",
    "    print(\"\\nComparando el grupo de prueba (248) con el grupo de control 246:\")\n",
    "    ab_test_results_246 = {}\n",
    "    for event in event_names:\n",
    "        p_value = check_statistical_significance(248, 246, event, alpha)\n",
    "        ab_test_results_246[event] = p_value\n",
    "\n",
    "    print(\"\\nComparando el grupo de prueba (248) con el grupo de control 247:\")\n",
    "    ab_test_results_247 = {}\n",
    "    for event in event_names:\n",
    "        p_value = check_statistical_significance(248, 247, event, alpha)\n",
    "        ab_test_results_247[event] = p_value\n",
    "\n",
    "    # d) Comparar con los grupos de control combinados.\n",
    "    # Para esto, primero agrupamos los datos de los grupos 246 y 247.\n",
    "    control_group_df = df[df['exp_id'].isin([246, 247])]\n",
    "    test_group_df = df[df['exp_id'] == 248]\n",
    "\n",
    "    print(\"\\nComparando el grupo de prueba (248) con los grupos de control combinados (246 + 247):\")\n",
    "    combined_test_results = {}\n",
    "    for event in event_names:\n",
    "        # Obtenemos los usuarios únicos en los grupos.\n",
    "        users_in_control = control_group_df['device_id_hash'].nunique()\n",
    "        users_in_test = test_group_df['device_id_hash'].nunique()\n",
    "\n",
    "        # Contamos los usuarios que hicieron el evento en cada grupo.\n",
    "        event_users_control = control_group_df[control_group_df['event_name']\n",
    "                                               == event]['device_id_hash'].nunique()\n",
    "        event_users_test = test_group_df[test_group_df['event_name']\n",
    "                                         == event]['device_id_hash'].nunique()\n",
    "\n",
    "        # Calculamos las proporciones.\n",
    "        p1 = event_users_test / users_in_test\n",
    "        p2 = event_users_control / users_in_control\n",
    "\n",
    "        # Calculamos la proporción combinada.\n",
    "        p_combined = (event_users_test + event_users_control) / \\\n",
    "            (users_in_test + users_in_control)\n",
    "\n",
    "        # Calculamos la diferencia estándar.\n",
    "        diff_std = np.sqrt(p_combined * (1 - p_combined) *\n",
    "                           (1 / users_in_test + 1 / users_in_control))\n",
    "\n",
    "        # Calculamos el estadístico Z.\n",
    "        z_value = (p1 - p2) / diff_std\n",
    "\n",
    "        # Calculamos el p-valor.\n",
    "        p_value = (1 - st.norm.cdf(abs(z_value))) * 2\n",
    "\n",
    "        print(f\"   - Evento '{event}': p-valor = {p_value:.3f}\", end=\"\")\n",
    "        if p_value < alpha:\n",
    "            print(\" -> ❌ Diferencia significativa.\")\n",
    "        else:\n",
    "            print(\" -> ✅ No hay diferencia significativa.\")\n",
    "\n",
    "        combined_test_results[event] = p_value\n",
    "\n",
    "    print(\"\\n✅ Análisis del experimento completado.\")\n",
    "\n",
    "# ---------------------------------------------------------------------------------\n",
    "# 🚀 Sección 5: Ejecución Principal\n",
    "# Habilidad: Explicación de Datos 🗣️\n",
    "# ---------------------------------------------------------------------------------\n",
    "# Aquí se orquesta la ejecución de todo el proyecto, llamando a las\n",
    "# funciones en el orden correcto.\n",
    "\n",
    "if __name__ == \"__main__\":\n",
    "    file_path = '/datasets/logs_exp_us.csv'\n",
    "\n",
    "    # 1. Cargar y preparar los datos.\n",
    "    data = load_and_prepare_data(file_path)\n",
    "    if data is not None:\n",
    "        print(\"\\n\" + \"-\"*80)\n",
    "\n",
    "        # 2. Explorar los datos.\n",
    "        prepared_data = explore_data(data)\n",
    "\n",
    "        if prepared_data is not None:\n",
    "            print(\"\\n\" + \"-\"*80)\n",
    "\n",
    "            # 3. Analizar el embudo de eventos.\n",
    "            analyze_event_funnel(prepared_data)\n",
    "            print(\"\\n\" + \"-\"*80)\n",
    "\n",
    "            # 4. Analizar los resultados del experimento.\n",
    "            analyze_experiment(prepared_data)\n",
    "            print(\"\\n\" + \"-\"*80)\n"
   ]
  },
  {
   "cell_type": "markdown",
   "metadata": {},
   "source": [
    "#### Conclusiones "
   ]
  },
  {
   "cell_type": "markdown",
   "metadata": {},
   "source": [
    "Los resultados son los mismos porque el valor alpha no cambia el p-valor. La variable alpha solo define el umbral para decidir si un resultado es significativo o no.\n",
    "Dado que todos nuestros valores p-valores son mucho más grandes que cualquiera de esos umbrales, el resultado final no cambia: siempre concluimos que no hay una diferencia significativa."
   ]
  },
  {
   "cell_type": "markdown",
   "metadata": {},
   "source": [
    "#### ¿Estuvo bien cambiar el valor de alpha?"
   ]
  },
  {
   "cell_type": "markdown",
   "metadata": {},
   "source": [
    "Sí, estuvo bien cambiar el valor de alpha a 0.0025. Al realizar múltiples pruebas, el riesgo de obtener un falso positivo aumenta. El método de Bonferroni es una técnica estándar para mitigar este problema, y consiste en ajustar el umbral de significancia.\n",
    "\n",
    "Nuestro nivel inicial de significancia era de 0.05.\n",
    "Como realizamos 20 pruebas de hipótesis.\n",
    "El nivel de significancia ajustado (0.05 / 20) es 0.0025. (Prueba de Bonferroni)\n",
    "\n",
    "Aunque en este caso no cambió la conclusión, el ajuste es una práctica correcta para comprobar que no tengamos resultados falsos; y resultados más riguroso. Si alguno de nustros p-valores hubiera estado, por ejemplo, en 0.01 (significativo con 0.05, pero no con 0.0025), el ajuste habría sido crucial para evitar una conclusión incorrecta."
   ]
  }
 ],
 "metadata": {
  "kernelspec": {
   "display_name": "Python 3 (ipykernel)",
   "language": "python",
   "name": "python3"
  },
  "language_info": {
   "codemirror_mode": {
    "name": "ipython",
    "version": 3
   },
   "file_extension": ".py",
   "mimetype": "text/x-python",
   "name": "python",
   "nbconvert_exporter": "python",
   "pygments_lexer": "ipython3",
   "version": "3.9.23"
  }
 },
 "nbformat": 4,
 "nbformat_minor": 4
}
